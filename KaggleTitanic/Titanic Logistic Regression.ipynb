{
 "cells": [
  {
   "cell_type": "code",
   "execution_count": 1,
   "metadata": {},
   "outputs": [],
   "source": [
    "#Import key libraries\n",
    "import pandas as pd\n",
    "import numpy as np\n",
    "import seaborn as sns\n",
    "import matplotlib.pyplot as plt\n",
    "import warnings\n",
    "warnings.filterwarnings('ignore')\n",
    "sns.set_style(\"darkgrid\")"
   ]
  },
  {
   "cell_type": "code",
   "execution_count": 2,
   "metadata": {},
   "outputs": [],
   "source": [
    "### Let's  Logistic Regression \n",
    "from sklearn.linear_model import LogisticRegression\n",
    "from sklearn.model_selection import train_test_split, GridSearchCV\n",
    "from sklearn.metrics import confusion_matrix, classification_report,roc_auc_score,roc_curve\n",
    "from sklearn import metrics"
   ]
  },
  {
   "cell_type": "code",
   "execution_count": 3,
   "metadata": {},
   "outputs": [],
   "source": [
    "train_df = pd.read_csv('train_modified.csv',index_col='PassengerId')"
   ]
  },
  {
   "cell_type": "code",
   "execution_count": 4,
   "metadata": {},
   "outputs": [],
   "source": [
    "list_of_features = list(set(train_df.columns) - set(['Survived','Embarked_Q','Cabintype_1.0','Cabintype_2.0','Age']))\n",
    "target = 'Survived'"
   ]
  },
  {
   "cell_type": "code",
   "execution_count": 5,
   "metadata": {},
   "outputs": [],
   "source": [
    "X = train_df[list_of_features]\n",
    "y= train_df[target]"
   ]
  },
  {
   "cell_type": "markdown",
   "metadata": {},
   "source": [
    "# Grid Search CV ( Logistic)"
   ]
  },
  {
   "cell_type": "code",
   "execution_count": 29,
   "metadata": {},
   "outputs": [],
   "source": [
    "param_grid = {'C': [0.001, 0.01, 0.1, 1, 10, 100, 1000] }\n",
    "regr = GridSearchCV(LogisticRegression(penalty='l2'), param_grid, cv=5)"
   ]
  },
  {
   "cell_type": "code",
   "execution_count": 30,
   "metadata": {},
   "outputs": [],
   "source": [
    "#Now Predict\n",
    "\n",
    "regr.fit(X,y)\n",
    "y_pred = regr.predict(X)\n",
    "y_pred_proba = regr.predict_proba(X)[:,1]"
   ]
  },
  {
   "cell_type": "code",
   "execution_count": 31,
   "metadata": {},
   "outputs": [
    {
     "name": "stdout",
     "output_type": "stream",
     "text": [
      "('ROC-AUC-Score:', 0.8711195792185488)\n"
     ]
    }
   ],
   "source": [
    "from sklearn.metrics import roc_auc_score\n",
    "r_a_score = roc_auc_score(y, regr.predict_proba(X)[:,1])\n",
    "print(\"ROC-AUC-Score:\", r_a_score)"
   ]
  },
  {
   "cell_type": "code",
   "execution_count": 32,
   "metadata": {},
   "outputs": [
    {
     "name": "stdout",
     "output_type": "stream",
     "text": [
      "('Accuracy Score: ', 0.8277027027027027)\n",
      "('Probablity of prediction to be 1 or Yes: ', 6.0)\n",
      "\n"
     ]
    },
    {
     "data": {
      "image/png": "[encoded data removed]",
      "text/plain": [
       "<Figure size 432x288 with 2 Axes>"
      ]
     },
     "metadata": {
      "needs_background": "light"
     },
     "output_type": "display_data"
    }
   ],
   "source": [
    "sns.heatmap(pd.DataFrame(confusion_matrix(y,y_pred)), \n",
    "            annot=True, cmap=\"YlGnBu\" ,fmt='g')\n",
    "plt.ylabel('Actual label')\n",
    "plt.xlabel('Predicted label')\n",
    "plt.title('Title: Confusion matrix')\n",
    "\n",
    "print('Accuracy Score: ', metrics.accuracy_score(y, y_pred))\n",
    "\n",
    "from sklearn.metrics import log_loss\n",
    "print(\"Probablity of prediction to be 1 or Yes: \", round(log_loss(y, y_pred)))\n",
    "print(\"\")"
   ]
  },
  {
   "cell_type": "code",
   "execution_count": 33,
   "metadata": {},
   "outputs": [
    {
     "name": "stdout",
     "output_type": "stream",
     "text": [
      "              precision    recall  f1-score   support\n",
      "\n",
      "         0.0       0.85      0.87      0.86       548\n",
      "         1.0       0.79      0.75      0.77       340\n",
      "\n",
      "   micro avg       0.83      0.83      0.83       888\n",
      "   macro avg       0.82      0.81      0.82       888\n",
      "weighted avg       0.83      0.83      0.83       888\n",
      "\n"
     ]
    },
    {
     "data": {
      "text/plain": [
       "0.826922623170669"
      ]
     },
     "execution_count": 33,
     "metadata": {},
     "output_type": "execute_result"
    }
   ],
   "source": [
    "print(classification_report(y,y_pred))\n",
    "\n",
    "from sklearn.metrics import f1_score\n",
    "f1_score(y, y_pred, average='weighted') "
   ]
  },
  {
   "cell_type": "code",
   "execution_count": 34,
   "metadata": {},
   "outputs": [
    {
     "name": "stdout",
     "output_type": "stream",
     "text": [
      "('Accuracy Score: ', 0.8277027027027027)\n"
     ]
    }
   ],
   "source": [
    "print('Accuracy Score: ', metrics.accuracy_score(y, y_pred))"
   ]
  },
  {
   "cell_type": "code",
   "execution_count": 12,
   "metadata": {},
   "outputs": [],
   "source": [
    "test_df = pd.read_csv('test_modified.csv',index_col='PassengerId')\n",
    "X_test = test_df[list_of_features]"
   ]
  },
  {
   "cell_type": "code",
   "execution_count": 13,
   "metadata": {},
   "outputs": [],
   "source": [
    "y_pred_test = regr.predict(X_test)"
   ]
  },
  {
   "cell_type": "code",
   "execution_count": 14,
   "metadata": {},
   "outputs": [],
   "source": [
    "test_df['Survived'] = y_pred_test.astype(int)"
   ]
  },
  {
   "cell_type": "code",
   "execution_count": 15,
   "metadata": {},
   "outputs": [],
   "source": [
    "submissions = test_df['Survived']\n",
    "submissions.columns = ['PassengerId','Survived']\n",
    "submissions.to_csv(\"submission_titanic.csv\", header=True)"
   ]
  },
  {
   "cell_type": "code",
   "execution_count": null,
   "metadata": {},
   "outputs": [],
   "source": []
  },
  {
   "cell_type": "markdown",
   "metadata": {},
   "source": [
    "# Random Forest"
   ]
  },
  {
   "cell_type": "code",
   "execution_count": 7,
   "metadata": {},
   "outputs": [],
   "source": [
    "from sklearn.ensemble import RandomForestClassifier"
   ]
  },
  {
   "cell_type": "code",
   "execution_count": 8,
   "metadata": {},
   "outputs": [
    {
     "name": "stdout",
     "output_type": "stream",
     "text": [
      "Fitting 5 folds for each of 54 candidates, totalling 270 fits\n"
     ]
    },
    {
     "name": "stderr",
     "output_type": "stream",
     "text": [
      "[Parallel(n_jobs=2)]: Using backend LokyBackend with 2 concurrent workers.\n",
      "[Parallel(n_jobs=2)]: Done  57 tasks      | elapsed:    5.8s\n",
      "[Parallel(n_jobs=2)]: Done 267 out of 270 | elapsed:   17.3s remaining:    0.2s\n",
      "[Parallel(n_jobs=2)]: Done 270 out of 270 | elapsed:   17.4s finished\n"
     ]
    },
    {
     "data": {
      "text/plain": [
       "0.8288288288288288"
      ]
     },
     "execution_count": 8,
     "metadata": {},
     "output_type": "execute_result"
    }
   ],
   "source": [
    "RFC = RandomForestClassifier()\n",
    "\n",
    "\n",
    "## Search grid for optimal parameters\n",
    "rf_param_grid = {\"max_depth\": [None],\n",
    "              \"max_features\": [1, 3, 10],\n",
    "              \"min_samples_split\": [2, 3, 10],\n",
    "              \"min_samples_leaf\": [1, 3, 10],\n",
    "              \"bootstrap\": [False],\n",
    "              \"n_estimators\" :[10,50],\n",
    "              \"criterion\": [\"gini\"]}\n",
    "\n",
    "\n",
    "gsRFC = GridSearchCV(RFC,param_grid = rf_param_grid, cv=5, scoring=\"accuracy\", n_jobs= 2, verbose = 1)\n",
    "\n",
    "gsRFC.fit(X,y)\n",
    "\n",
    "RFC_best = gsRFC.best_estimator_\n",
    "\n",
    "# Best score\n",
    "gsRFC.best_score_"
   ]
  },
  {
   "cell_type": "code",
   "execution_count": 9,
   "metadata": {},
   "outputs": [],
   "source": [
    "y_pred_rf = gsRFC.predict(X)\n",
    "y_pred_proba_rf = gsRFC.predict_proba(X)[:,1]"
   ]
  },
  {
   "cell_type": "code",
   "execution_count": 10,
   "metadata": {},
   "outputs": [
    {
     "name": "stdout",
     "output_type": "stream",
     "text": [
      "('ROC-AUC-Score:', 0.9659054315156721)\n"
     ]
    }
   ],
   "source": [
    "from sklearn.metrics import roc_auc_score\n",
    "r_a_score = roc_auc_score(y,  gsRFC.predict_proba(X)[:,1])\n",
    "print(\"ROC-AUC-Score:\", r_a_score)"
   ]
  },
  {
   "cell_type": "code",
   "execution_count": 11,
   "metadata": {},
   "outputs": [
    {
     "name": "stdout",
     "output_type": "stream",
     "text": [
      "('Accuracy Score: ', 0.9031531531531531)\n",
      "('Probablity of prediction to be 1 or Yes: ', 3.0)\n",
      "\n"
     ]
    },
    {
     "data": {
      "image/png": "[encoded data removed]",
      "text/plain": [
       "<Figure size 432x288 with 2 Axes>"
      ]
     },
     "metadata": {
      "needs_background": "light"
     },
     "output_type": "display_data"
    }
   ],
   "source": [
    "sns.heatmap(pd.DataFrame(confusion_matrix(y,y_pred_rf)), \n",
    "            annot=True, cmap=\"YlGnBu\" ,fmt='g')\n",
    "plt.ylabel('Actual label')\n",
    "plt.xlabel('Predicted label')\n",
    "plt.title('Title: Confusion matrix')\n",
    "\n",
    "print('Accuracy Score: ', metrics.accuracy_score(y, y_pred_rf))\n",
    "\n",
    "from sklearn.metrics import log_loss\n",
    "print(\"Probablity of prediction to be 1 or Yes: \", round(log_loss(y, y_pred_rf)))\n",
    "print(\"\")"
   ]
  },
  {
   "cell_type": "code",
   "execution_count": 12,
   "metadata": {},
   "outputs": [
    {
     "name": "stdout",
     "output_type": "stream",
     "text": [
      "              precision    recall  f1-score   support\n",
      "\n",
      "         0.0       0.90      0.95      0.92       548\n",
      "         1.0       0.91      0.83      0.87       340\n",
      "\n",
      "   micro avg       0.90      0.90      0.90       888\n",
      "   macro avg       0.90      0.89      0.90       888\n",
      "weighted avg       0.90      0.90      0.90       888\n",
      "\n"
     ]
    }
   ],
   "source": [
    "print(classification_report(y,y_pred_rf))"
   ]
  },
  {
   "cell_type": "code",
   "execution_count": 13,
   "metadata": {},
   "outputs": [
    {
     "data": {
      "text/plain": [
       "0.9022083704144095"
      ]
     },
     "execution_count": 13,
     "metadata": {},
     "output_type": "execute_result"
    }
   ],
   "source": [
    "from sklearn.metrics import f1_score\n",
    "f1_score(y, y_pred_rf, average='weighted') "
   ]
  },
  {
   "cell_type": "code",
   "execution_count": 14,
   "metadata": {},
   "outputs": [
    {
     "name": "stdout",
     "output_type": "stream",
     "text": [
      "('Accuracy Score: ', 0.9031531531531531)\n"
     ]
    }
   ],
   "source": [
    "print('Accuracy Score: ', metrics.accuracy_score(y, y_pred_rf))"
   ]
  },
  {
   "cell_type": "code",
   "execution_count": 15,
   "metadata": {},
   "outputs": [],
   "source": [
    "test_df = pd.read_csv('test_modified.csv',index_col='PassengerId')\n",
    "X_test = test_df[list_of_features]\n"
   ]
  },
  {
   "cell_type": "code",
   "execution_count": 16,
   "metadata": {},
   "outputs": [],
   "source": [
    "y_pred_test_rf = gsRFC.predict(X_test)"
   ]
  },
  {
   "cell_type": "code",
   "execution_count": 17,
   "metadata": {},
   "outputs": [],
   "source": [
    "test_df['Survived'] = y_pred_test_rf.astype(int)"
   ]
  },
  {
   "cell_type": "code",
   "execution_count": 18,
   "metadata": {},
   "outputs": [],
   "source": [
    "submissions = test_df['Survived']\n",
    "submissions.columns = ['PassengerId','Survived']\n",
    "submissions.to_csv(\"submission_titanic_rf.csv\", header=True)"
   ]
  },
  {
   "cell_type": "markdown",
   "metadata": {},
   "source": [
    "# SVM"
   ]
  },
  {
   "cell_type": "code",
   "execution_count": 19,
   "metadata": {},
   "outputs": [
    {
     "data": {
      "text/plain": [
       "array([0., 1., 1., 1., 0.])"
      ]
     },
     "execution_count": 19,
     "metadata": {},
     "output_type": "execute_result"
    }
   ],
   "source": [
    "from sklearn import svm\n",
    "clf = svm.SVC(kernel='rbf')\n",
    "clf.fit(X, y) \n",
    "yhat_svm = clf.predict(X)\n",
    "yhat_svm [0:5]"
   ]
  },
  {
   "cell_type": "code",
   "execution_count": 20,
   "metadata": {},
   "outputs": [],
   "source": [
    "#from sklearn.metrics import roc_auc_score\n",
    "#r_a_score = roc_auc_score(y,  clf.predict_proba(X)[:,1])\n",
    "#print(\"ROC-AUC-Score:\", r_a_score)"
   ]
  },
  {
   "cell_type": "code",
   "execution_count": 21,
   "metadata": {},
   "outputs": [
    {
     "name": "stdout",
     "output_type": "stream",
     "text": [
      "('Accuracy Score: ', 0.8243243243243243)\n",
      "('Probablity of prediction to be 1 or Yes: ', 6.0)\n",
      "\n"
     ]
    },
    {
     "data": {
      "image/png": "[encoded data removed]",
      "text/plain": [
       "<Figure size 432x288 with 2 Axes>"
      ]
     },
     "metadata": {
      "needs_background": "light"
     },
     "output_type": "display_data"
    }
   ],
   "source": [
    "sns.heatmap(pd.DataFrame(confusion_matrix(y,yhat_svm)), \n",
    "            annot=True, cmap=\"YlGnBu\" ,fmt='g')\n",
    "plt.ylabel('Actual label')\n",
    "plt.xlabel('Predicted label')\n",
    "plt.title('Title: Confusion matrix')\n",
    "\n",
    "print('Accuracy Score: ', metrics.accuracy_score(y, yhat_svm))\n",
    "\n",
    "from sklearn.metrics import log_loss\n",
    "print(\"Probablity of prediction to be 1 or Yes: \", round(log_loss(y, yhat_svm)))\n",
    "print(\"\")"
   ]
  },
  {
   "cell_type": "code",
   "execution_count": 22,
   "metadata": {},
   "outputs": [
    {
     "name": "stdout",
     "output_type": "stream",
     "text": [
      "              precision    recall  f1-score   support\n",
      "\n",
      "         0.0       0.86      0.85      0.86       548\n",
      "         1.0       0.76      0.79      0.77       340\n",
      "\n",
      "   micro avg       0.82      0.82      0.82       888\n",
      "   macro avg       0.81      0.82      0.82       888\n",
      "weighted avg       0.83      0.82      0.82       888\n",
      "\n"
     ]
    }
   ],
   "source": [
    "print(classification_report(y,yhat_svm))\n"
   ]
  },
  {
   "cell_type": "code",
   "execution_count": 23,
   "metadata": {},
   "outputs": [
    {
     "data": {
      "text/plain": [
       "0.8247885165973085"
      ]
     },
     "execution_count": 23,
     "metadata": {},
     "output_type": "execute_result"
    }
   ],
   "source": [
    "from sklearn.metrics import f1_score\n",
    "f1_score(y, yhat_svm, average='weighted') "
   ]
  },
  {
   "cell_type": "code",
   "execution_count": 24,
   "metadata": {},
   "outputs": [
    {
     "name": "stdout",
     "output_type": "stream",
     "text": [
      "('Accuracy Score: ', 0.8243243243243243)\n"
     ]
    }
   ],
   "source": [
    "print('Accuracy Score: ', metrics.accuracy_score(y, yhat_svm))"
   ]
  },
  {
   "cell_type": "code",
   "execution_count": 25,
   "metadata": {},
   "outputs": [],
   "source": [
    "test_df = pd.read_csv('test_modified.csv',index_col='PassengerId')\n",
    "X_test = test_df[list_of_features]"
   ]
  },
  {
   "cell_type": "code",
   "execution_count": 26,
   "metadata": {},
   "outputs": [],
   "source": [
    "y_pred_test_svm = clf.predict(X_test)"
   ]
  },
  {
   "cell_type": "code",
   "execution_count": 27,
   "metadata": {},
   "outputs": [],
   "source": [
    "test_df['Survived'] = y_pred_test_svm.astype(int)"
   ]
  },
  {
   "cell_type": "code",
   "execution_count": 28,
   "metadata": {},
   "outputs": [],
   "source": [
    "submissions = test_df['Survived']\n",
    "submissions.columns = ['PassengerId','Survived']\n",
    "submissions.to_csv(\"submission_titanic_svm.csv\", header=True)"
   ]
  },
  {
   "cell_type": "code",
   "execution_count": 6,
   "metadata": {},
   "outputs": [
    {
     "name": "stdout",
     "output_type": "stream",
     "text": [
      "Optimization terminated successfully.\n",
      "         Current function value: 0.416576\n",
      "         Iterations 7\n",
      "                              Results: Logit\n",
      "===========================================================================\n",
      "Model:                  Logit               Pseudo R-squared:    0.374     \n",
      "Dependent Variable:     Survived            AIC:                 775.8396  \n",
      "Date:                   2019-01-04 15:30    BIC:                 862.0411  \n",
      "No. Observations:       888                 Log-Likelihood:      -369.92   \n",
      "Df Model:               17                  LL-Null:             -590.93   \n",
      "Df Residuals:           870                 LLR p-value:         2.9428e-83\n",
      "Converged:              1.0000              Scale:               1.0000    \n",
      "No. Iterations:         7.0000                                             \n",
      "---------------------------------------------------------------------------\n",
      "                            Coef.  Std.Err.    z     P>|z|   [0.025  0.975]\n",
      "---------------------------------------------------------------------------\n",
      "Fare                        0.0030   0.0026   1.1534 0.2487 -0.0021  0.0082\n",
      "Age_categories_Teenager     3.3681   0.5515   6.1070 0.0000  2.2872  4.4491\n",
      "Age_categories_Child        4.4531   0.7806   5.7046 0.0000  2.9231  5.9831\n",
      "Sex_1                      -2.8052   0.2154 -13.0213 0.0000 -3.2274 -2.3829\n",
      "Age_categories_Adult        2.8380   0.4496   6.3124 0.0000  1.9568  3.7192\n",
      "Age_categories_Senior       2.2155   0.7570   2.9267 0.0034  0.7318  3.6993\n",
      "Age_categories_Young Adult  3.5226   0.4792   7.3514 0.0000  2.5835  4.4618\n",
      "Cabintype_5.0              -0.6880   0.4363  -1.5770 0.1148 -1.5430  0.1671\n",
      "Parch                      -0.3764   0.1532  -2.4574 0.0140 -0.6766 -0.0762\n",
      "alone_1                    -0.6621   0.2983  -2.2197 0.0264 -1.2467 -0.0775\n",
      "Embarked_S                 -0.3857   0.2166  -1.7809 0.0749 -0.8102  0.0388\n",
      "Pclass_2                   -0.3994   0.4113  -0.9712 0.3315 -1.2055  0.4067\n",
      "Pclass_3                   -1.4397   0.4206  -3.4228 0.0006 -2.2641 -0.6153\n",
      "Age_categories_Infant       6.3501   0.7547   8.4144 0.0000  4.8710  7.8292\n",
      "Cabintype_4.0               1.1130   0.5276   2.1096 0.0349  0.0789  2.1470\n",
      "Cabintype_3.0               0.6718   0.5258   1.2778 0.2013 -0.3587  1.7024\n",
      "Cabintype_6.0              -0.5537   0.3638  -1.5222 0.1280 -1.2667  0.1592\n",
      "SibSp                      -0.6876   0.1662  -4.1372 0.0000 -1.0134 -0.3619\n",
      "===========================================================================\n",
      "\n"
     ]
    }
   ],
   "source": [
    "## Model Accuracy - Features P Values and Confidence Intervals\n",
    "import statsmodels.api as sm\n",
    "logit_model=sm.Logit(y,X)\n",
    "result=logit_model.fit()\n",
    "print(result.summary2())"
   ]
  },
  {
   "cell_type": "code",
   "execution_count": null,
   "metadata": {},
   "outputs": [],
   "source": []
  }
 ],
 "metadata": {
  "kernelspec": {
   "display_name": "Python 2",
   "language": "python",
   "name": "python2"
  },
  "language_info": {
   "codemirror_mode": {
    "name": "ipython",
    "version": 2
   },
   "file_extension": ".py",
   "mimetype": "text/x-python",
   "name": "python",
   "nbconvert_exporter": "python",
   "pygments_lexer": "ipython2",
   "version": "2.7.15"
  }
 },
 "nbformat": 4,
 "nbformat_minor": 2
}
